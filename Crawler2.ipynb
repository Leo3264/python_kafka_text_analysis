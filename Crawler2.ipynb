{
 "cells": [
  {
   "cell_type": "code",
   "execution_count": 11,
   "metadata": {
    "collapsed": true
   },
   "outputs": [],
   "source": [
    "import requests\n",
    "import time,re\n",
    "import json\n",
    "from kafka import KafkaProducer\n",
    "from kafka import TopicPartition\n",
    "from bs4 import BeautifulSoup\n",
    "from selenium import webdriver\n",
    "import sched"
   ]
  },
  {
   "cell_type": "code",
   "execution_count": 12,
   "metadata": {
    "collapsed": true
   },
   "outputs": [],
   "source": [
    "def get_web_page(url):\n",
    "    chromedriver = \"/Users/LeoWang/Downloads/chromedriver\"\n",
    "\n",
    "    driver   = webdriver.Chrome(chromedriver)\n",
    "    driver.get(url)\n",
    "\n",
    "    for i in range(1,10):\n",
    "        driver.execute_script('window.scroll(0,100000)')\n",
    "        time.sleep(2)\n",
    "\n",
    "    pagesource = driver.page_source\n",
    "    driver.close()\n",
    "    return pagesource"
   ]
  },
  {
   "cell_type": "code",
   "execution_count": 13,
   "metadata": {
    "collapsed": true
   },
   "outputs": [],
   "source": [
    "def get_articles(dom, date, kafka_topic):\n",
    "    \n",
    "    kafka_host='192.168.99.100' # host\n",
    "    kafka_port=9092 # port\n",
    "    \n",
    "    producer = KafkaProducer(bootstrap_servers=['{kafka_host}:{kafka_port}'.format(\n",
    "        kafka_host=kafka_host,\n",
    "        kafka_port=kafka_port\n",
    "    )])\n",
    "    \n",
    "    yahoo_soup = BeautifulSoup(dom,'html.parser')\n",
    "    links = []\n",
    "    finance = yahoo_soup.find_all('li', 'js-stream-content')\n",
    "\n",
    "    for info in finance:\n",
    "        link = \"\"\n",
    "        try:\n",
    "            test = info.find_all('div', 'controller')\n",
    "            if test:\n",
    "                continue\n",
    "\n",
    "            title = info.find('a').text\n",
    "            #print(title)\n",
    "\n",
    "            #print('---')\n",
    "\n",
    "            eassy = info.find('p').text\n",
    "            #print(eassy)\n",
    "\n",
    "            #print(\"===\")\n",
    "            \"\"\"\n",
    "            link = info.find_all('a', href=True)[0]\n",
    "\n",
    "            if link.get('href') != '#':\n",
    "                links.append(base_url + link.get(\"href\"))\n",
    "                print(title)\n",
    "                print(base_url + link.get(\"href\"))\n",
    "                print('===')\n",
    "            \"\"\"\n",
    "            producer.send(kafka_topic, title.encode('utf-8'))\n",
    "        except:\n",
    "            link = None\n",
    "    producer.send(kafka_topic, b'done')\n",
    "    producer.flush()"
   ]
  },
  {
   "cell_type": "code",
   "execution_count": 14,
   "metadata": {
    "scrolled": false
   },
   "outputs": [],
   "source": [
    "def main():\n",
    "    schedule = sched.scheduler ( time.time, time.sleep )\n",
    "    current_page = get_web_page('https://tw.news.yahoo.com/politics/')\n",
    "    current_page2 = get_web_page('https://tw.news.yahoo.com/entertainment/')\n",
    "    kafka_topic='poli'\n",
    "    kafka_topic2='ente'\n",
    "    if current_page:\n",
    "        today = time.strftime(\"%m/%d\").lstrip('0') \n",
    "        get_articles(current_page, today, kafka_topic)\n",
    "    if current_page2:\n",
    "        today = time.strftime(\"%m/%d\").lstrip('0')\n",
    "        get_articles(current_page2, today, kafka_topic2)\n",
    "        \n",
    "    schedule.enter(10800,0,main,()) \n",
    "    print('wait 3 hours...')\n",
    "    schedule.run()"
   ]
  },
  {
   "cell_type": "code",
   "execution_count": null,
   "metadata": {},
   "outputs": [
    {
     "name": "stdout",
     "output_type": "stream",
     "text": [
      "wait 3 hours...\n"
     ]
    }
   ],
   "source": [
    "main()"
   ]
  },
  {
   "cell_type": "code",
   "execution_count": null,
   "metadata": {
    "collapsed": true
   },
   "outputs": [],
   "source": []
  }
 ],
 "metadata": {
  "kernelspec": {
   "display_name": "Python 3",
   "language": "python",
   "name": "python3"
  },
  "language_info": {
   "codemirror_mode": {
    "name": "ipython",
    "version": 3
   },
   "file_extension": ".py",
   "mimetype": "text/x-python",
   "name": "python",
   "nbconvert_exporter": "python",
   "pygments_lexer": "ipython3",
   "version": "3.6.0"
  }
 },
 "nbformat": 4,
 "nbformat_minor": 2
}
